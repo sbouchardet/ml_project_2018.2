{
 "cells": [
  {
   "cell_type": "code",
   "execution_count": 1,
   "metadata": {},
   "outputs": [],
   "source": [
    "import tensorflow as tf\n",
    "import math\n",
    "import numpy as np\n",
    "from matplotlib import pyplot as plt\n",
    "from mnist import MNIST\n",
    "from utils import show_image\n",
    "from sklearn import metrics"
   ]
  },
  {
   "cell_type": "code",
   "execution_count": 2,
   "metadata": {},
   "outputs": [],
   "source": [
    "mnist = MNIST('datasets/mnist')\n",
    "train_images, train_labels = mnist.load_training()\n",
    "test_images, test_labels = mnist.load_testing()\n",
    "\n",
    "shape = (28,28)"
   ]
  },
  {
   "cell_type": "code",
   "execution_count": 73,
   "metadata": {},
   "outputs": [],
   "source": [
    "input_size = shape[0]*shape[1]\n",
    "\n",
    "conv_shape = [3,3]\n",
    "\n",
    "l1_size = 200\n",
    "l2_size = 100\n",
    "l3_size = 50\n",
    "l4_size = 25\n",
    "\n",
    "output_size = 10\n",
    "\n",
    "w = {\n",
    "    # shape: NLines of conv filter, NColuns of conv filter, N inputs, N outputs\n",
    "    \n",
    "    'c1':tf.Variable(tf.random_normal((conv_shape[0],conv_shape[1],1,10))),\n",
    "    'w2':tf.Variable(tf.random_normal([l1_size, l2_size])),\n",
    "    'w3':tf.Variable(tf.random_normal([l2_size, l3_size])),\n",
    "    'w4':tf.Variable(tf.random_normal([l3_size, l4_size])),\n",
    "    'w5':tf.Variable(tf.random_normal([l4_size, output_size])),\n",
    "\n",
    "}\n",
    "\n",
    "b = {\n",
    "    'b1': tf.Variable(tf.random_normal([l1_size])),\n",
    "    'b2': tf.Variable(tf.random_normal([l2_size])),\n",
    "    'b3': tf.Variable(tf.random_normal([l3_size])),\n",
    "    'b4': tf.Variable(tf.random_normal([l4_size])),\n",
    "    'b5': tf.Variable(tf.random_normal([output_size])),\n",
    "}"
   ]
  },
  {
   "cell_type": "code",
   "execution_count": 74,
   "metadata": {},
   "outputs": [],
   "source": [
    "img_example = np.matrix([train_images[0]]).reshape(shape)\n",
    "x = tf.placeholder(shape=shape,dtype=tf.float32, name='input_x')\n",
    "reshape_x = tf.reshape(x, shape=[-1, 28, 28, 1])\n",
    "\n",
    "conv_r = tf.nn.conv2d(reshape_x, w['c1'], strides=[1, 1, 1, 1], padding='SAME')\n"
   ]
  },
  {
   "cell_type": "code",
   "execution_count": 75,
   "metadata": {},
   "outputs": [],
   "source": [
    "init = tf.global_variables_initializer()\n",
    "r = []\n",
    "with tf.Session() as sess:\n",
    "    sess.run(init)\n",
    "    r = sess.run(conv_r,feed_dict = {x:img_example})\n",
    "    "
   ]
  },
  {
   "cell_type": "code",
   "execution_count": 93,
   "metadata": {},
   "outputs": [],
   "source": [
    "plt.subplot?"
   ]
  },
  {
   "cell_type": "code",
   "execution_count": 97,
   "metadata": {},
   "outputs": [
    {
     "data": {
      "image/png": "[encoded data removed]",
      "text/plain": [
       "<Figure size 432x288 with 9 Axes>"
      ]
     },
     "metadata": {
      "needs_background": "light"
     },
     "output_type": "display_data"
    }
   ],
   "source": [
    "for i in range (9):\n",
    "    plt.subplot(520+(i+1))\n",
    "    plt.imshow(r[0,:,:,i],cmap='Greys')"
   ]
  },
  {
   "cell_type": "code",
   "execution_count": null,
   "metadata": {},
   "outputs": [],
   "source": []
  }
 ],
 "metadata": {
  "kernelspec": {
   "display_name": "Python 2",
   "language": "python",
   "name": "python2"
  },
  "language_info": {
   "codemirror_mode": {
    "name": "ipython",
    "version": 2
   },
   "file_extension": ".py",
   "mimetype": "text/x-python",
   "name": "python",
   "nbconvert_exporter": "python",
   "pygments_lexer": "ipython2",
   "version": "2.7.15rc1"
  }
 },
 "nbformat": 4,
 "nbformat_minor": 2
}
