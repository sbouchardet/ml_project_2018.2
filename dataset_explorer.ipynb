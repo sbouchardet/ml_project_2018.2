{
 "cells": [
  {
   "cell_type": "markdown",
   "metadata": {},
   "source": [
    "# Machine Learning Project\n",
    "\n",
    "Poker Hands"
   ]
  },
  {
   "cell_type": "code",
   "execution_count": 48,
   "metadata": {},
   "outputs": [],
   "source": [
    "import pandas as pd\n",
    "import numpy as np\n",
    "from matplotlib import pyplot as plt"
   ]
  },
  {
   "cell_type": "markdown",
   "metadata": {},
   "source": [
    "## 1 - Lendo os dados de treino"
   ]
  },
  {
   "cell_type": "code",
   "execution_count": 15,
   "metadata": {},
   "outputs": [],
   "source": [
    "%matplotlib inline\n",
    "columns_names = [\"C1\",\"S1\",\"C2\",\"S2\",\"C3\",\"S3\",\"C4\",\"S4\",\"C5\",\"S5\",\"Y\"]\n",
    "df = pd.read_csv(\"poker/poker-hand-training-true.csv\", header=None, names=columns_names)"
   ]
  },
  {
   "cell_type": "markdown",
   "metadata": {},
   "source": [
    "## 2 - Criando um preditor baseado na distribuição de $Y$"
   ]
  },
  {
   "cell_type": "code",
   "execution_count": 36,
   "metadata": {},
   "outputs": [],
   "source": [
    "n_exemples = df.shape[0]\n",
    "distribution = df.groupby(by=\"Y\").size().apply(lambda x: x/n_exemples)\n",
    "Y = list(distribution.index)\n",
    "pY = distribution.values\n",
    "\n",
    "def random_predict():\n",
    "    return np.random.choice(Y,p=pY)"
   ]
  },
  {
   "cell_type": "markdown",
   "metadata": {},
   "source": [
    "Comparando a distribuição do `random_predict()` e de `Y`"
   ]
  },
  {
   "cell_type": "code",
   "execution_count": 68,
   "metadata": {},
   "outputs": [
    {
     "data": {
      "image/png": "[encoded data removed]",
      "text/plain": [
       "<Figure size 432x288 with 2 Axes>"
      ]
     },
     "metadata": {},
     "output_type": "display_data"
    }
   ],
   "source": [
    "a =[]\n",
    "for i in range(n_exemples):\n",
    "    predict = random_predict()\n",
    "    a.append(predict)\n",
    "  \n",
    "fig, (ax1,ax2) = plt.subplots(1, 2, sharey=True,sharex=True)\n",
    "ax1.hist(a, color=\"r\")\n",
    "ax2.hist(df[\"Y\"], color=\"g\")\n",
    "\n",
    "plt.title(\"Histograma de Y\")\n",
    "\n",
    "ax1.set_title(\"Random predict\")\n",
    "ax2.set_title(\"Original Data\")\n",
    "plt.show()"
   ]
  },
  {
   "cell_type": "markdown",
   "metadata": {},
   "source": [
    "## 3 - Aplicando o `random_predict()` ao dado de teste"
   ]
  },
  {
   "cell_type": "code",
   "execution_count": 71,
   "metadata": {},
   "outputs": [],
   "source": [
    "df_test = pd.read_csv(\"poker/poker-hand-testing.csv\", header=None, names=columns_names)\n",
    "df_test[\"Y_p\"] = df_test.apply(lambda x: random_predict(),axis=1)"
   ]
  },
  {
   "cell_type": "code",
   "execution_count": 72,
   "metadata": {},
   "outputs": [
    {
     "data": {
      "text/plain": [
       "<matplotlib.axes._subplots.AxesSubplot at 0x7f0fb53d94a8>"
      ]
     },
     "execution_count": 72,
     "metadata": {},
     "output_type": "execute_result"
    },
    {
     "data": {
      "image/png": "[encoded data removed]",
      "text/plain": [
       "<Figure size 432x288 with 1 Axes>"
      ]
     },
     "metadata": {},
     "output_type": "display_data"
    }
   ],
   "source": [
    "df_test[\"Y_p\"].hist()"
   ]
  },
  {
   "cell_type": "code",
   "execution_count": 82,
   "metadata": {},
   "outputs": [
    {
     "name": "stdout",
     "output_type": "stream",
     "text": [
      "\n",
      "Baseline: 43.2461% de acerto\n",
      "\n"
     ]
    }
   ],
   "source": [
    "from sklearn.metrics import accuracy_score, precision_score, recall_score\n",
    "\n",
    "acc = accuracy_score(df_test[\"Y\"],df_test[\"Y_p\"])\n",
    "\n",
    "print(\"\"\"\n",
    "Baseline: {}% de acerto\n",
    "\"\"\".format(acc*100))"
   ]
  },
  {
   "cell_type": "code",
   "execution_count": null,
   "metadata": {},
   "outputs": [],
   "source": []
  }
 ],
 "metadata": {
  "kernelspec": {
   "display_name": "Python 3",
   "language": "python",
   "name": "python3"
  },
  "language_info": {
   "codemirror_mode": {
    "name": "ipython",
    "version": 3
   },
   "file_extension": ".py",
   "mimetype": "text/x-python",
   "name": "python",
   "nbconvert_exporter": "python",
   "pygments_lexer": "ipython3",
   "version": "3.6.5"
  }
 },
 "nbformat": 4,
 "nbformat_minor": 2
}
