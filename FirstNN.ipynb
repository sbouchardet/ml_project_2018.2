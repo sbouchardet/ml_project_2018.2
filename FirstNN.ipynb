{
 "cells": [
  {
   "cell_type": "code",
   "execution_count": 60,
   "metadata": {},
   "outputs": [],
   "source": [
    "import tensorflow as tf\n",
    "import math\n",
    "import numpy as np\n",
    "from matplotlib import pyplot as plt\n",
    "from mnist import MNIST\n",
    "from utils import show_image\n",
    "from sklearn import metrics"
   ]
  },
  {
   "cell_type": "code",
   "execution_count": 2,
   "metadata": {},
   "outputs": [],
   "source": [
    "mnist = MNIST('datasets/mnist')\n",
    "train_images, train_labels = mnist.load_training()\n",
    "test_images, test_labels = mnist.load_testing()\n",
    "\n",
    "shape = (28,28)"
   ]
  },
  {
   "cell_type": "code",
   "execution_count": 3,
   "metadata": {},
   "outputs": [
    {
     "data": {
      "image/png": "[encoded data removed]",
      "text/plain": [
       "<Figure size 432x288 with 25 Axes>"
      ]
     },
     "metadata": {},
     "output_type": "display_data"
    }
   ],
   "source": [
    "fig = plt.figure()\n",
    "fig.subplots_adjust(hspace=0.4, wspace=0.4)\n",
    "\n",
    "for i in range(1,26):\n",
    "    ax = fig.add_subplot(5, 5, i)\n",
    "    ax.set_title(train_labels[i])\n",
    "    show_image(train_images[i],shape, ax=ax)"
   ]
  },
  {
   "cell_type": "markdown",
   "metadata": {},
   "source": [
    "## Build a NN\n",
    "\n",
    "Rede Neural Densa\n",
    "\n",
    "### 1 - Pesos que serão treinados"
   ]
  },
  {
   "cell_type": "code",
   "execution_count": 4,
   "metadata": {},
   "outputs": [],
   "source": [
    "input_size = shape[0]*shape[1]\n",
    "\n",
    "l1_size = 100\n",
    "l2_size = 50\n",
    "\n",
    "output_size = 10\n",
    "\n",
    "w = {\n",
    "    'w1':tf.Variable(tf.random_normal([input_size, l1_size])),\n",
    "    'w2':tf.Variable(tf.random_normal([l1_size, l2_size])),\n",
    "    'w3':tf.Variable(tf.random_normal([l2_size, output_size]))\n",
    "}\n",
    "\n",
    "b = {\n",
    "    'b1': tf.Variable(tf.random_normal([l1_size])),\n",
    "    'b2': tf.Variable(tf.random_normal([l2_size])),\n",
    "    'b3': tf.Variable(tf.random_normal([output_size])),\n",
    "}"
   ]
  },
  {
   "cell_type": "code",
   "execution_count": 5,
   "metadata": {},
   "outputs": [],
   "source": [
    "def nn(x_value):\n",
    "    \n",
    "    h1 = tf.add(tf.matmul(x_value,w['w1']),b['b1'])\n",
    "    h2 = tf.add(tf.matmul(h1,w['w2']),b['b2'])\n",
    "    out = tf.add(tf.matmul(h2,w['w3']),b['b3'])\n",
    "    \n",
    "    return out"
   ]
  },
  {
   "cell_type": "markdown",
   "metadata": {},
   "source": [
    "## Teste com um valor"
   ]
  },
  {
   "cell_type": "code",
   "execution_count": 44,
   "metadata": {},
   "outputs": [
    {
     "name": "stdout",
     "output_type": "stream",
     "text": [
      "[[  54800.24    177347.31   -413128.4    -183189.17    173028.95\n",
      "     4612.4683  -33792.074   145859.08   -351575.03   -209143.61  ]\n",
      " [  70283.4     266426.78   -173190.3    -247247.45    135290.67\n",
      "    19418.867   103310.805    24037.963  -240535.83   -199700.05  ]]\n"
     ]
    }
   ],
   "source": [
    "init_op = tf.global_variables_initializer()\n",
    "\n",
    "x_v = np.matrix(train_images[:2], dtype=np.float32)\n",
    "with tf.Session() as sess:\n",
    "    sess.run(init_op)\n",
    "    out = nn(x_v)\n",
    "    print(sess.run(nn(x_v)))"
   ]
  },
  {
   "cell_type": "markdown",
   "metadata": {},
   "source": [
    "## 2 - LossFunction"
   ]
  },
  {
   "cell_type": "code",
   "execution_count": 6,
   "metadata": {},
   "outputs": [],
   "source": [
    "labels_prepared = np.zeros((len(train_labels),10),dtype=np.float32)\n",
    "for i in range(len(train_labels)):\n",
    "        labels_prepared[i,train_labels[i]] = 1.0"
   ]
  },
  {
   "cell_type": "code",
   "execution_count": 7,
   "metadata": {},
   "outputs": [],
   "source": [
    "def loss(outs,inicio,fim):\n",
    "    return tf.losses.mean_squared_error(labels_prepared[inicio:fim],outs)"
   ]
  },
  {
   "cell_type": "markdown",
   "metadata": {},
   "source": [
    "# 3 - Minimizando o erro"
   ]
  },
  {
   "cell_type": "code",
   "execution_count": 18,
   "metadata": {},
   "outputs": [],
   "source": [
    "adam = tf.train.AdamOptimizer(learning_rate=0.1)"
   ]
  },
  {
   "cell_type": "code",
   "execution_count": 19,
   "metadata": {},
   "outputs": [],
   "source": [
    "def get_batch_range(batch_i,batch_size,total_size):\n",
    "    i = batch_size*batch_i\n",
    "    f = i + batch_size\n",
    "    if f > total_size:\n",
    "        f = total_size\n",
    "    return i,f"
   ]
  },
  {
   "cell_type": "code",
   "execution_count": 22,
   "metadata": {},
   "outputs": [],
   "source": [
    "init_op = tf.global_variables_initializer()"
   ]
  },
  {
   "cell_type": "code",
   "execution_count": 62,
   "metadata": {},
   "outputs": [
    {
     "name": "stdout",
     "output_type": "stream",
     "text": [
      "========== EPOCH 0 ==========\n",
      "263833630000.0\n",
      "13215429000.0\n",
      "14129381000.0\n",
      "8942671000.0\n",
      "              precision    recall  f1-score   support\n",
      "\n",
      "           0       0.00      0.00      0.00       980\n",
      "           1       0.14      0.00      0.01      1135\n",
      "           2       0.12      0.34      0.18      1032\n",
      "           3       0.07      0.04      0.05      1010\n",
      "           4       0.11      0.11      0.11       982\n",
      "           5       0.10      0.39      0.16       892\n",
      "           6       0.04      0.02      0.03       958\n",
      "           7       0.03      0.00      0.00      1028\n",
      "           8       0.09      0.12      0.11       974\n",
      "           9       0.06      0.01      0.01      1009\n",
      "\n",
      "   micro avg       0.10      0.10      0.10     10000\n",
      "   macro avg       0.08      0.10      0.06     10000\n",
      "weighted avg       0.08      0.10      0.06     10000\n",
      "\n",
      "===========================\n",
      "========== EPOCH 1 ==========\n",
      "3291559200.0\n",
      "1634637200.0\n",
      "1723057500.0\n",
      "843555900.0\n",
      "              precision    recall  f1-score   support\n",
      "\n",
      "           0       0.08      0.06      0.06       980\n",
      "           1       0.07      0.13      0.09      1135\n",
      "           2       0.11      0.34      0.17      1032\n",
      "           3       0.05      0.02      0.03      1010\n",
      "           4       0.15      0.07      0.10       982\n",
      "           5       0.07      0.11      0.08       892\n",
      "           6       0.08      0.09      0.09       958\n",
      "           7       0.10      0.01      0.01      1028\n",
      "           8       0.10      0.07      0.08       974\n",
      "           9       0.11      0.00      0.01      1009\n",
      "\n",
      "   micro avg       0.09      0.09      0.09     10000\n",
      "   macro avg       0.09      0.09      0.07     10000\n",
      "weighted avg       0.09      0.09      0.07     10000\n",
      "\n",
      "===========================\n",
      "========== EPOCH 2 ==========\n",
      "884959400.0\n",
      "577095200.0\n",
      "477257600.0\n",
      "431940770.0\n",
      "              precision    recall  f1-score   support\n",
      "\n",
      "           0       0.10      0.12      0.11       980\n",
      "           1       0.17      0.05      0.08      1135\n",
      "           2       0.06      0.03      0.04      1032\n",
      "           3       0.09      0.06      0.07      1010\n",
      "           4       0.11      0.18      0.13       982\n",
      "           5       0.10      0.08      0.09       892\n",
      "           6       0.10      0.08      0.09       958\n",
      "           7       0.07      0.16      0.10      1028\n",
      "           8       0.11      0.09      0.10       974\n",
      "           9       0.12      0.14      0.13      1009\n",
      "\n",
      "   micro avg       0.10      0.10      0.10     10000\n",
      "   macro avg       0.10      0.10      0.09     10000\n",
      "weighted avg       0.10      0.10      0.09     10000\n",
      "\n",
      "===========================\n",
      "========== EPOCH 3 ==========\n",
      "338244860.0\n",
      "312165630.0\n",
      "286538750.0\n",
      "254165660.0\n",
      "              precision    recall  f1-score   support\n",
      "\n",
      "           0       0.11      0.13      0.12       980\n",
      "           1       0.12      0.07      0.09      1135\n",
      "           2       0.10      0.11      0.11      1032\n",
      "           3       0.10      0.14      0.12      1010\n",
      "           4       0.14      0.13      0.13       982\n",
      "           5       0.09      0.09      0.09       892\n",
      "           6       0.12      0.17      0.14       958\n",
      "           7       0.08      0.04      0.05      1028\n",
      "           8       0.10      0.12      0.11       974\n",
      "           9       0.12      0.11      0.12      1009\n",
      "\n",
      "   micro avg       0.11      0.11      0.11     10000\n",
      "   macro avg       0.11      0.11      0.11     10000\n",
      "weighted avg       0.11      0.11      0.11     10000\n",
      "\n",
      "===========================\n",
      "========== EPOCH 4 ==========\n",
      "227271440.0\n",
      "215036480.0\n",
      "197449230.0\n",
      "185865400.0\n",
      "              precision    recall  f1-score   support\n",
      "\n",
      "           0       0.10      0.10      0.10       980\n",
      "           1       0.13      0.08      0.10      1135\n",
      "           2       0.10      0.09      0.09      1032\n",
      "           3       0.10      0.13      0.11      1010\n",
      "           4       0.15      0.14      0.14       982\n",
      "           5       0.09      0.11      0.10       892\n",
      "           6       0.11      0.13      0.12       958\n",
      "           7       0.09      0.08      0.08      1028\n",
      "           8       0.10      0.13      0.11       974\n",
      "           9       0.12      0.10      0.10      1009\n",
      "\n",
      "   micro avg       0.11      0.11      0.11     10000\n",
      "   macro avg       0.11      0.11      0.11     10000\n",
      "weighted avg       0.11      0.11      0.11     10000\n",
      "\n",
      "===========================\n",
      "========== EPOCH 5 ==========\n",
      "167452940.0\n",
      "162181340.0\n",
      "151093780.0\n",
      "145016500.0\n",
      "              precision    recall  f1-score   support\n",
      "\n",
      "           0       0.09      0.09      0.09       980\n",
      "           1       0.12      0.08      0.09      1135\n",
      "           2       0.10      0.09      0.10      1032\n",
      "           3       0.10      0.13      0.11      1010\n",
      "           4       0.14      0.14      0.14       982\n",
      "           5       0.09      0.11      0.10       892\n",
      "           6       0.11      0.15      0.13       958\n",
      "           7       0.09      0.08      0.09      1028\n",
      "           8       0.10      0.12      0.11       974\n",
      "           9       0.11      0.09      0.10      1009\n",
      "\n",
      "   micro avg       0.11      0.11      0.11     10000\n",
      "   macro avg       0.11      0.11      0.11     10000\n",
      "weighted avg       0.11      0.11      0.11     10000\n",
      "\n",
      "===========================\n",
      "========== EPOCH 6 ==========\n",
      "131772340.0\n",
      "128598936.0\n",
      "120334480.0\n",
      "115943830.0\n",
      "              precision    recall  f1-score   support\n",
      "\n",
      "           0       0.09      0.09      0.09       980\n",
      "           1       0.11      0.08      0.09      1135\n",
      "           2       0.11      0.10      0.10      1032\n",
      "           3       0.10      0.14      0.12      1010\n",
      "           4       0.14      0.14      0.14       982\n",
      "           5       0.09      0.11      0.10       892\n",
      "           6       0.11      0.15      0.13       958\n",
      "           7       0.10      0.08      0.09      1028\n",
      "           8       0.10      0.11      0.10       974\n",
      "           9       0.11      0.09      0.10      1009\n",
      "\n",
      "   micro avg       0.11      0.11      0.11     10000\n",
      "   macro avg       0.11      0.11      0.11     10000\n",
      "weighted avg       0.11      0.11      0.10     10000\n",
      "\n",
      "===========================\n",
      "========== EPOCH 7 ==========\n",
      "106119880.0\n",
      "104582210.0\n",
      "98720320.0\n",
      "95489630.0\n",
      "              precision    recall  f1-score   support\n",
      "\n",
      "           0       0.09      0.09      0.09       980\n",
      "           1       0.11      0.08      0.09      1135\n",
      "           2       0.10      0.10      0.10      1032\n",
      "           3       0.11      0.14      0.12      1010\n",
      "           4       0.13      0.13      0.13       982\n",
      "           5       0.09      0.11      0.10       892\n",
      "           6       0.11      0.14      0.12       958\n",
      "           7       0.10      0.08      0.09      1028\n",
      "           8       0.10      0.11      0.10       974\n",
      "           9       0.11      0.09      0.10      1009\n",
      "\n",
      "   micro avg       0.11      0.11      0.11     10000\n",
      "   macro avg       0.11      0.11      0.10     10000\n",
      "weighted avg       0.11      0.11      0.10     10000\n",
      "\n",
      "===========================\n",
      "========== EPOCH 8 ==========\n",
      "87742776.0\n",
      "87209010.0\n",
      "81944580.0\n",
      "80088270.0\n",
      "              precision    recall  f1-score   support\n",
      "\n",
      "           0       0.09      0.09      0.09       980\n",
      "           1       0.13      0.08      0.10      1135\n",
      "           2       0.10      0.10      0.10      1032\n",
      "           3       0.11      0.13      0.12      1010\n",
      "           4       0.16      0.09      0.12       982\n",
      "           5       0.10      0.11      0.10       892\n",
      "           6       0.11      0.16      0.13       958\n",
      "           7       0.09      0.08      0.09      1028\n",
      "           8       0.09      0.14      0.11       974\n",
      "           9       0.10      0.07      0.08      1009\n",
      "\n",
      "   micro avg       0.11      0.11      0.11     10000\n",
      "   macro avg       0.11      0.11      0.10     10000\n",
      "weighted avg       0.11      0.11      0.10     10000\n",
      "\n",
      "===========================\n",
      "========== EPOCH 9 ==========\n",
      "73456560.0\n",
      "72980584.0\n",
      "69465064.0\n",
      "67688350.0\n",
      "              precision    recall  f1-score   support\n",
      "\n",
      "           0       0.09      0.10      0.09       980\n",
      "           1       0.13      0.09      0.11      1135\n",
      "           2       0.11      0.11      0.11      1032\n",
      "           3       0.11      0.13      0.12      1010\n",
      "           4       0.15      0.10      0.12       982\n",
      "           5       0.09      0.10      0.10       892\n",
      "           6       0.11      0.16      0.13       958\n",
      "           7       0.09      0.08      0.08      1028\n",
      "           8       0.10      0.13      0.11       974\n",
      "           9       0.10      0.07      0.09      1009\n",
      "\n",
      "   micro avg       0.11      0.11      0.11     10000\n",
      "   macro avg       0.11      0.11      0.11     10000\n",
      "weighted avg       0.11      0.11      0.11     10000\n",
      "\n",
      "===========================\n"
     ]
    }
   ],
   "source": [
    "n_batchs = 20\n",
    "\n",
    "total_size = len(train_labels)\n",
    "batch_size = int(total_size/n_batchs)\n",
    "\n",
    "loss_vector = []\n",
    "\n",
    "input_x = tf.placeholder(dtype=tf.float32,shape=(batch_size,input_size), name='input_x')\n",
    "input_x_test = tf.placeholder(dtype=tf.float32,shape=(len(test_labels),input_size), name='input_x_test')\n",
    "\n",
    "with tf.Session() as sess:\n",
    "\n",
    "    sess.run(init_op)\n",
    "    out = nn(input_x)\n",
    "    for i in range(10):\n",
    "        print(\"=\"*10 +\" EPOCH \"+str(i)+\" \"+\"=\"*10)\n",
    "        for j in range(n_batchs):\n",
    "            inicio,fim = get_batch_range(j, batch_size, total_size)   \n",
    "            l_tensor = loss(nn(input_x),inicio, fim)\n",
    "            a = adam.minimize(l_tensor, var_list=[w['w1'],w['w2'],w['w3'],b['b1'],b['b2'],b['b3']])\n",
    "\n",
    "            sess.run(a, feed_dict={input_x:train_images[inicio:fim]})\n",
    "            l = sess.run(l_tensor, feed_dict={input_x:train_images[inicio:fim]})\n",
    "            loss_vector.append(l)\n",
    "\n",
    "            if j%5 == 0:\n",
    "                print(l)\n",
    "\n",
    "        result_nn = sess.run(nn(input_x_test), feed_dict={input_x_test:test_images})\n",
    "        result_test = []\n",
    "        for r in result_nn:\n",
    "            result_test.append(np.argmax(r))\n",
    "        print(metrics.classification_report(test_labels.tolist(),result_test))\n",
    "        print(\"=\"*27)"
   ]
  },
  {
   "cell_type": "code",
   "execution_count": 63,
   "metadata": {},
   "outputs": [
    {
     "data": {
      "text/plain": [
       "[<matplotlib.lines.Line2D at 0x7f8cdd3e6910>]"
      ]
     },
     "execution_count": 63,
     "metadata": {},
     "output_type": "execute_result"
    },
    {
     "data": {
      "image/png": "[encoded data removed]",
      "text/plain": [
       "<Figure size 432x288 with 1 Axes>"
      ]
     },
     "metadata": {
      "needs_background": "light"
     },
     "output_type": "display_data"
    }
   ],
   "source": [
    "%matplotlib inline\n",
    "plt.plot(loss_vector)"
   ]
  },
  {
   "cell_type": "code",
   "execution_count": null,
   "metadata": {},
   "outputs": [],
   "source": []
  }
 ],
 "metadata": {
  "kernelspec": {
   "display_name": "Python 2",
   "language": "python",
   "name": "python2"
  },
  "language_info": {
   "codemirror_mode": {
    "name": "ipython",
    "version": 2
   },
   "file_extension": ".py",
   "mimetype": "text/x-python",
   "name": "python",
   "nbconvert_exporter": "python",
   "pygments_lexer": "ipython2",
   "version": "2.7.15rc1"
  }
 },
 "nbformat": 4,
 "nbformat_minor": 2
}
