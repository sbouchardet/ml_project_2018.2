{
 "cells": [
  {
   "cell_type": "markdown",
   "metadata": {},
   "source": [
    "# Convolution in image processing\n",
    "\n",
    "## What is convolution?\n",
    "\n",
    "No processamento de imagem, convolução é um processo de aplicar uma matrix (matrix de convolução) a uma imagem para transforma-la.\n",
    "\n",
    "A matrix é aplicada como um produto interno a cada pedaço da imagem. Esse processo percorre toda imagem.\n",
    "\n",
    "![img](http://deeplearning.net/software/theano/_images/numerical_padding_strides.gif)\n"
   ]
  },
  {
   "cell_type": "code",
   "execution_count": 61,
   "metadata": {},
   "outputs": [],
   "source": [
    "import numpy as np\n",
    "from matplotlib import pyplot as plt\n",
    "from mnist import MNIST"
   ]
  },
  {
   "cell_type": "markdown",
   "metadata": {},
   "source": [
    "Vamos aplicar a matriz de convolução identidade em uma imagem ára ver o resultadoVamos fazer o pading da imagem para poder aplicar a matriz em toda imagem.\n",
    "\n",
    "o pading é incluir uma borda co 0 na imagem"
   ]
  },
  {
   "cell_type": "code",
   "execution_count": 62,
   "metadata": {},
   "outputs": [],
   "source": [
    "mnist = MNIST('datasets/mnist')\n",
    "train_images, train_labels = mnist.load_training()\n",
    "test_images, test_labels = mnist.load_testing()\n",
    "\n",
    "shape = (28,28)"
   ]
  },
  {
   "cell_type": "code",
   "execution_count": 63,
   "metadata": {},
   "outputs": [
    {
     "data": {
      "text/plain": [
       "<matplotlib.image.AxesImage at 0x7fac6a949c10>"
      ]
     },
     "execution_count": 63,
     "metadata": {},
     "output_type": "execute_result"
    },
    {
     "data": {
      "image/png": "[encoded data removed]",
      "text/plain": [
       "<Figure size 432x288 with 1 Axes>"
      ]
     },
     "metadata": {
      "needs_background": "light"
     },
     "output_type": "display_data"
    }
   ],
   "source": [
    "list_ex = train_images[4]\n",
    "img_ex = np.matrix(list_ex).reshape(shape)\n",
    "plt.imshow(img_ex, cmap='Greys')"
   ]
  },
  {
   "cell_type": "code",
   "execution_count": 67,
   "metadata": {},
   "outputs": [
    {
     "data": {
      "text/plain": [
       "<matplotlib.image.AxesImage at 0x7fac69d7edd0>"
      ]
     },
     "execution_count": 67,
     "metadata": {},
     "output_type": "execute_result"
    },
    {
     "data": {
      "image/png": "[encoded data removed]",
      "text/plain": [
       "<Figure size 432x288 with 1 Axes>"
      ]
     },
     "metadata": {
      "needs_background": "light"
     },
     "output_type": "display_data"
    }
   ],
   "source": [
    "#Pading de 2\n",
    "padding_img = np.zeros((shape[0]+2,shape[1]+2))\n",
    "padding_img[1:-1,1:-1] = img_ex\n",
    "plt.imshow(padding_img, cmap='Greys')"
   ]
  },
  {
   "cell_type": "markdown",
   "metadata": {},
   "source": [
    "Vamos primeiro aplicar a matriz de convolução identidade"
   ]
  },
  {
   "cell_type": "code",
   "execution_count": 107,
   "metadata": {},
   "outputs": [],
   "source": [
    "i_conv_matrix = np.matrix([\n",
    "    [0.0,0.0,0.0],\n",
    "    [0.0,1.0,0.0],\n",
    "    [0.0,0.0,0.0]\n",
    "])"
   ]
  },
  {
   "cell_type": "code",
   "execution_count": 112,
   "metadata": {},
   "outputs": [],
   "source": [
    "def conv(conv_mat,img):\n",
    "\n",
    "    result = np.zeros(shape)\n",
    "    conv_op = conv_mat.reshape(9).tolist()[0]\n",
    "    for i in range(shape[0]):\n",
    "        for j in range(shape[1]):\n",
    "            image_section = img[i:i+3,j:j+3]\n",
    "            sec_reshaped = image_section.reshape(9)\n",
    "            result[i,j] = np.dot(sec_reshaped,conv_op)\n",
    "    return result"
   ]
  },
  {
   "cell_type": "code",
   "execution_count": 114,
   "metadata": {},
   "outputs": [
    {
     "data": {
      "text/plain": [
       "<matplotlib.image.AxesImage at 0x7fac69b24750>"
      ]
     },
     "execution_count": 114,
     "metadata": {},
     "output_type": "execute_result"
    },
    {
     "data": {
      "image/png": "[encoded data removed]",
      "text/plain": [
       "<Figure size 432x288 with 1 Axes>"
      ]
     },
     "metadata": {
      "needs_background": "light"
     },
     "output_type": "display_data"
    }
   ],
   "source": [
    "r = conv(i_conv_matrix, padding_img)\n",
    "plt.imshow(r,cmap='Greys')"
   ]
  },
  {
   "cell_type": "markdown",
   "metadata": {},
   "source": [
    "Vamos ver agora uma matriz de detecção de bordas"
   ]
  },
  {
   "cell_type": "code",
   "execution_count": 142,
   "metadata": {},
   "outputs": [],
   "source": [
    " plt.subplots?"
   ]
  },
  {
   "cell_type": "code",
   "execution_count": 145,
   "metadata": {},
   "outputs": [
    {
     "data": {
      "image/png": "[encoded data removed]",
      "text/plain": [
       "<Figure size 432x288 with 2 Axes>"
      ]
     },
     "metadata": {
      "needs_background": "light"
     },
     "output_type": "display_data"
    }
   ],
   "source": [
    "conv_edge = np.matrix([\n",
    "    [-1.0,-1.0,-1.0],\n",
    "    [-1.0,8.0,-1.0],\n",
    "    [-1.0,-1.0,-1.0]\n",
    "])\n",
    "r = conv(conv_edge, padding_img)\n",
    "\n",
    "f, axarr = plt.subplots(nrows=1, ncols=2)\n",
    "\n",
    "\n",
    "f.subplots_adjust(hspace=0.5)\n",
    "\n",
    "axarr[0].imshow(img_ex,cmap='Greys')\n",
    "axarr[0].set_title(\"Original image\")\n",
    "\n",
    "axarr[0].axes.get_xaxis().set_visible(False)\n",
    "axarr[0].axes.get_yaxis().set_visible(False)\n",
    "\n",
    "axarr[1].imshow(r,cmap='Greys')\n",
    "axarr[1].set_title(\"Image after convolution\")\n",
    "\n",
    "axarr[1].axes.get_xaxis().set_visible(False)\n",
    "axarr[1].axes.get_yaxis().set_visible(False)\n",
    "\n"
   ]
  },
  {
   "cell_type": "markdown",
   "metadata": {},
   "source": [
    "Vamos aplicar um filtro de normalização"
   ]
  },
  {
   "cell_type": "code",
   "execution_count": 119,
   "metadata": {},
   "outputs": [
    {
     "data": {
      "text/plain": [
       "<matplotlib.image.AxesImage at 0x7fac6999b990>"
      ]
     },
     "execution_count": 119,
     "metadata": {},
     "output_type": "execute_result"
    },
    {
     "data": {
      "image/png": "[encoded data removed]",
      "text/plain": [
       "<Figure size 432x288 with 1 Axes>"
      ]
     },
     "metadata": {
      "needs_background": "light"
     },
     "output_type": "display_data"
    }
   ],
   "source": [
    "conv_edge = np.matrix([\n",
    "    [1.0/9.0,1.0/9.0,1.0/9.0],\n",
    "    [1.0/9.0,1.0/9.0,1.0/9.0],\n",
    "    [1.0/9.0,1.0/9.0,1.0/9.0]\n",
    "])\n",
    "r = conv(conv_edge, padding_img)\n",
    "plt.imshow(r,cmap='Greys')"
   ]
  },
  {
   "cell_type": "code",
   "execution_count": null,
   "metadata": {},
   "outputs": [],
   "source": []
  }
 ],
 "metadata": {
  "kernelspec": {
   "display_name": "Python 2",
   "language": "python",
   "name": "python2"
  },
  "language_info": {
   "codemirror_mode": {
    "name": "ipython",
    "version": 2
   },
   "file_extension": ".py",
   "mimetype": "text/x-python",
   "name": "python",
   "nbconvert_exporter": "python",
   "pygments_lexer": "ipython2",
   "version": "2.7.15rc1"
  }
 },
 "nbformat": 4,
 "nbformat_minor": 2
}
