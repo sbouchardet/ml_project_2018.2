{
 "cells": [
  {
   "cell_type": "markdown",
   "metadata": {},
   "source": [
    "# Decision tree + Adaboost in MNIST"
   ]
  },
  {
   "cell_type": "code",
   "execution_count": 1,
   "metadata": {},
   "outputs": [],
   "source": [
    "import pandas as pd\n",
    "import numpy as np\n",
    "from mnist import MNIST\n",
    "from matplotlib import pyplot as plt\n",
    "import matplotlib\n",
    "import seaborn as sns\n",
    "from utils import show_image"
   ]
  },
  {
   "cell_type": "code",
   "execution_count": 2,
   "metadata": {},
   "outputs": [],
   "source": [
    "mnist = MNIST('datasets/mnist')\n",
    "train_images, train_labels = mnist.load_training()\n",
    "test_images, test_labels = mnist.load_testing()\n",
    "\n",
    "shape = (28,28)"
   ]
  },
  {
   "cell_type": "markdown",
   "metadata": {},
   "source": [
    "# 1 - Create a Decision Tree Classifier with Adaboost\n",
    "\n",
    "## 1.1 - Split training dataset in `training` and `validation`"
   ]
  },
  {
   "cell_type": "code",
   "execution_count": 3,
   "metadata": {},
   "outputs": [],
   "source": [
    "from sklearn.model_selection import train_test_split\n",
    "\n",
    "X_train, X_validate, y_train, y_validate = train_test_split(\n",
    "    train_images,\n",
    "    train_labels,\n",
    "    test_size=0.33,\n",
    "    random_state=42)"
   ]
  },
  {
   "cell_type": "markdown",
   "metadata": {},
   "source": [
    "## 1.2 - Create DecisionTreeClassifier with Adaboost"
   ]
  },
  {
   "cell_type": "code",
   "execution_count": 6,
   "metadata": {},
   "outputs": [],
   "source": [
    "from sklearn.ensemble import AdaBoostClassifier\n",
    "from sklearn.tree import DecisionTreeClassifier\n",
    "\n",
    "dt_model = DecisionTreeClassifier()\n",
    "\n",
    "ada_ensemble = AdaBoostClassifier(base_estimator=dt_model, n_estimators=10)"
   ]
  },
  {
   "cell_type": "markdown",
   "metadata": {},
   "source": [
    "- Fit in `training` dataset"
   ]
  },
  {
   "cell_type": "code",
   "execution_count": 7,
   "metadata": {},
   "outputs": [],
   "source": [
    "ada_ensemble = ada_ensemble.fit(X_train,y_train)"
   ]
  },
  {
   "cell_type": "markdown",
   "metadata": {},
   "source": [
    "### 1.2.1 - validate with `training` dataset"
   ]
  },
  {
   "cell_type": "code",
   "execution_count": 8,
   "metadata": {},
   "outputs": [
    {
     "name": "stdout",
     "output_type": "stream",
     "text": [
      "              precision    recall  f1-score   support\n",
      "\n",
      "           0       1.00      1.00      1.00      3977\n",
      "           1       1.00      1.00      1.00      4524\n",
      "           2       1.00      1.00      1.00      4017\n",
      "           3       1.00      1.00      1.00      4096\n",
      "           4       1.00      1.00      1.00      3924\n",
      "           5       1.00      1.00      1.00      3622\n",
      "           6       1.00      1.00      1.00      3938\n",
      "           7       1.00      1.00      1.00      4144\n",
      "           8       1.00      1.00      1.00      3957\n",
      "           9       1.00      1.00      1.00      4001\n",
      "\n",
      "   micro avg       1.00      1.00      1.00     40200\n",
      "   macro avg       1.00      1.00      1.00     40200\n",
      "weighted avg       1.00      1.00      1.00     40200\n",
      "\n"
     ]
    }
   ],
   "source": [
    "from sklearn.metrics import classification_report\n",
    "\n",
    "\n",
    "predict_result = []\n",
    "\n",
    "predictions = ada_ensemble.predict(X_train)\n",
    "\n",
    "predict_result = zip(y_train, predictions)\n",
    "\n",
    "result_training = pd.DataFrame(predict_result, columns=[\"y\",\"ŷ\"])\n",
    "\n",
    "print(classification_report(result_training[\"y\"],result_training[\"ŷ\"]))"
   ]
  },
  {
   "cell_type": "markdown",
   "metadata": {},
   "source": [
    "### 1.2.2 - validate with `validate` dataset"
   ]
  },
  {
   "cell_type": "code",
   "execution_count": 10,
   "metadata": {},
   "outputs": [
    {
     "name": "stdout",
     "output_type": "stream",
     "text": [
      "              precision    recall  f1-score   support\n",
      "\n",
      "           0       0.92      0.91      0.92      1946\n",
      "           1       0.94      0.95      0.95      2218\n",
      "           2       0.84      0.84      0.84      1941\n",
      "           3       0.82      0.82      0.82      2035\n",
      "           4       0.85      0.86      0.85      1918\n",
      "           5       0.81      0.82      0.82      1799\n",
      "           6       0.90      0.89      0.89      1980\n",
      "           7       0.90      0.89      0.90      2121\n",
      "           8       0.79      0.78      0.78      1894\n",
      "           9       0.81      0.81      0.81      1948\n",
      "\n",
      "   micro avg       0.86      0.86      0.86     19800\n",
      "   macro avg       0.86      0.86      0.86     19800\n",
      "weighted avg       0.86      0.86      0.86     19800\n",
      "\n"
     ]
    }
   ],
   "source": [
    "predict_result = []\n",
    "\n",
    "predictions = ada_ensemble.predict(X_validate)\n",
    "\n",
    "predict_result = zip(y_validate, predictions)\n",
    "\n",
    "result_validate = pd.DataFrame(predict_result, columns=[\"y\",\"ŷ\"])\n",
    "\n",
    "print(classification_report(result_validate[\"y\"],result_validate[\"ŷ\"]))"
   ]
  },
  {
   "cell_type": "markdown",
   "metadata": {},
   "source": [
    "### 1.3 - CrossValidaion\n"
   ]
  },
  {
   "cell_type": "code",
   "execution_count": 11,
   "metadata": {},
   "outputs": [],
   "source": [
    "from sklearn.model_selection import cross_val_score\n",
    "\n",
    "ada_ensemble = AdaBoostClassifier(base_estimator=dt_model, n_estimators=10)\n",
    "\n",
    "cv_result = cross_val_score(ada_ensemble, list(train_images), list(train_labels), cv=20)"
   ]
  },
  {
   "cell_type": "code",
   "execution_count": 12,
   "metadata": {},
   "outputs": [
    {
     "name": "stdout",
     "output_type": "stream",
     "text": [
      "\n",
      "Accuracy:\n",
      "[0.8762475  0.87720466 0.86846487 0.86775483 0.85143238 0.85838054\n",
      " 0.88370543 0.87337554 0.87070976 0.87233333 0.859      0.87791861\n",
      " 0.86724483 0.8712475  0.87791861 0.87024683 0.86591061 0.88525684\n",
      " 0.88718291 0.88384513]\n",
      "Acurracy Mean: 0.872269035853\n",
      "\n"
     ]
    }
   ],
   "source": [
    "print(\"\"\"\n",
    "Accuracy:\n",
    "{}\n",
    "Acurracy Mean: {}\n",
    "\"\"\".format(cv_result, np.mean(cv_result)))"
   ]
  },
  {
   "cell_type": "markdown",
   "metadata": {},
   "source": [
    "# 2 - Test the classifier with the `test` dataset"
   ]
  },
  {
   "cell_type": "code",
   "execution_count": 13,
   "metadata": {},
   "outputs": [],
   "source": [
    "ada_ensemble = AdaBoostClassifier(base_estimator=dt_model, n_estimators=10)\n",
    "dt_model = dt_model.fit(train_images,train_labels)"
   ]
  },
  {
   "cell_type": "code",
   "execution_count": 14,
   "metadata": {},
   "outputs": [
    {
     "name": "stdout",
     "output_type": "stream",
     "text": [
      " === RESULT === \n",
      "              precision    recall  f1-score   support\n",
      "\n",
      "           0       0.91      0.93      0.92       980\n",
      "           1       0.96      0.96      0.96      1135\n",
      "           2       0.88      0.85      0.86      1032\n",
      "           3       0.83      0.85      0.84      1010\n",
      "           4       0.89      0.88      0.88       982\n",
      "           5       0.84      0.83      0.84       892\n",
      "           6       0.89      0.89      0.89       958\n",
      "           7       0.90      0.90      0.90      1028\n",
      "           8       0.82      0.81      0.82       974\n",
      "           9       0.85      0.86      0.85      1009\n",
      "\n",
      "   micro avg       0.88      0.88      0.88     10000\n",
      "   macro avg       0.88      0.88      0.88     10000\n",
      "weighted avg       0.88      0.88      0.88     10000\n",
      "\n"
     ]
    }
   ],
   "source": [
    "predict_result = []\n",
    "\n",
    "predictions = dt_model.predict(test_images)\n",
    "\n",
    "predict_result = zip(test_labels, predictions)\n",
    "\n",
    "result_validate = pd.DataFrame(predict_result, columns=[\"y\",\"ŷ\"])\n",
    "print(\" === RESULT === \")\n",
    "print(classification_report(result_validate[\"y\"],result_validate[\"ŷ\"]))"
   ]
  },
  {
   "cell_type": "code",
   "execution_count": null,
   "metadata": {},
   "outputs": [],
   "source": []
  }
 ],
 "metadata": {
  "kernelspec": {
   "display_name": "Python 2",
   "language": "python",
   "name": "python2"
  },
  "language_info": {
   "codemirror_mode": {
    "name": "ipython",
    "version": 2
   },
   "file_extension": ".py",
   "mimetype": "text/x-python",
   "name": "python",
   "nbconvert_exporter": "python",
   "pygments_lexer": "ipython2",
   "version": "2.7.15rc1"
  }
 },
 "nbformat": 4,
 "nbformat_minor": 2
}
