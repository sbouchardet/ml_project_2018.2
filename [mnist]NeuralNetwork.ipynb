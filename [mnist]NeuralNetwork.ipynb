{
 "cells": [
  {
   "cell_type": "code",
   "execution_count": 1,
   "metadata": {},
   "outputs": [],
   "source": [
    "import tensorflow as tf\n",
    "import math\n",
    "import numpy as np\n",
    "from matplotlib import pyplot as plt\n",
    "from mnist import MNIST\n",
    "from utils import show_image\n",
    "from sklearn import metrics"
   ]
  },
  {
   "cell_type": "markdown",
   "metadata": {},
   "source": [
    "# 1 - Lendo o dataset"
   ]
  },
  {
   "cell_type": "code",
   "execution_count": 2,
   "metadata": {},
   "outputs": [],
   "source": [
    "mnist = MNIST('datasets/mnist')\n",
    "train_images, train_labels = mnist.load_training()\n",
    "test_images, test_labels = mnist.load_testing()\n",
    "\n",
    "shape = (28,28)"
   ]
  },
  {
   "cell_type": "markdown",
   "metadata": {},
   "source": [
    "# 2 - Criando as variáveis dos Pesos (`w`) e Bias (`b`) da Rede"
   ]
  },
  {
   "cell_type": "code",
   "execution_count": 4,
   "metadata": {},
   "outputs": [],
   "source": [
    "input_size = shape[0]*shape[1]\n",
    "\n",
    "layers_size = [\n",
    "    50,\n",
    "    25\n",
    "]\n",
    "\n",
    "output_size = 10\n",
    "\n",
    "w = {\n",
    "    'w1':tf.Variable(tf.random_normal([input_size, layers_size[0]])),\n",
    "    'w2':tf.Variable(tf.random_normal([layers_size[0], layers_size[1]])),\n",
    "    'wo':tf.Variable(tf.random_normal([layers_size[1], output_size])),\n",
    "\n",
    "}\n",
    "\n",
    "b = {\n",
    "    'b1': tf.Variable(tf.random_normal([layers_size[0]])),\n",
    "    'b2': tf.Variable(tf.random_normal([layers_size[1]])),\n",
    "    'bo': tf.Variable(tf.random_normal([output_size])),\n",
    "\n",
    "}"
   ]
  },
  {
   "cell_type": "markdown",
   "metadata": {},
   "source": [
    "# 3 - Criando a Rede"
   ]
  },
  {
   "cell_type": "code",
   "execution_count": 5,
   "metadata": {},
   "outputs": [],
   "source": [
    "def nn(input_x):\n",
    "    \n",
    "    w_keys = sorted(w.keys())\n",
    "    b_keys = sorted(b.keys())\n",
    "\n",
    "    wb_keys = zip(w_keys,b_keys)\n",
    "    \n",
    "    h_layers = {\n",
    "        wb_keys[0]: tf.nn.relu(tf.add(tf.matmul(input_x,w['w1']),b['b1']))\n",
    "    }\n",
    "        \n",
    "    \n",
    "    for wb_key in wb_keys[1:-1]:\n",
    "        last_layes_index = wb_keys.index(wb_key) - 1\n",
    "        last_layes = h_layers[wb_keys[last_layes_index]]\n",
    "        \n",
    "        actual_layer_w = wb_key[0]\n",
    "        actual_layer_b = wb_key[1]\n",
    "\n",
    "        \n",
    "        h_layers[wb_key] = tf.nn.relu(\n",
    "            tf.add(\n",
    "                tf.matmul(\n",
    "                    last_layes,\n",
    "                    w[actual_layer_w]),\n",
    "                b[actual_layer_b]))\n",
    "    \n",
    "    last_layes = h_layers[wb_keys[last_layes_index+1]]\n",
    "    output = tf.nn.softmax(tf.add(tf.matmul(last_layes,w['wo']),b['bo']))\n",
    "    return output"
   ]
  },
  {
   "cell_type": "markdown",
   "metadata": {},
   "source": [
    "# 4 - Formatando os Labels\n",
    "\n",
    "$5 \\rightarrow [0,0,0,0,0,1,0,0,0,0]$\n",
    "\n",
    "$2 \\rightarrow [0,0,1,0,0,0,0,0,0,0]$"
   ]
  },
  {
   "cell_type": "code",
   "execution_count": 6,
   "metadata": {},
   "outputs": [],
   "source": [
    "np_test_images = np.matrix(test_images, dtype=np.float32)\n",
    "\n",
    "np_train_labels = np.zeros((len(train_labels),10), dtype=np.float32)\n",
    "for i in range(len(train_labels)):\n",
    "    np_train_labels[i,train_labels[i]]=1\n",
    "\n",
    "np_test_labels = np.zeros((len(test_labels),10), dtype=np.int)\n",
    "for i in range(len(test_labels)):\n",
    "    np_test_labels[i,test_labels[i]]=1"
   ]
  },
  {
   "cell_type": "markdown",
   "metadata": {},
   "source": [
    "# 5 - Criando os Placeholders para input e Variáveis auxiliares"
   ]
  },
  {
   "cell_type": "code",
   "execution_count": 7,
   "metadata": {},
   "outputs": [],
   "source": [
    "n_batchs = 3\n",
    "\n",
    "total_size = len(train_labels)\n",
    "batch_size = int(total_size/n_batchs)\n",
    "\n",
    "\n",
    "init = tf.global_variables_initializer()\n",
    "train_x = tf.placeholder(shape=(batch_size,input_size),dtype=tf.float32, name='input_x')\n",
    "train_y = tf.placeholder(shape=(batch_size,output_size),dtype=tf.int32, name='input_y')\n",
    "\n",
    "test_x = tf.constant(np_test_images,name='test_x')\n",
    "test_y = tf.constant(test_labels.tolist(), name='test_y', dtype=tf.int64)\n",
    "\n",
    "predict_train = nn(train_x)\n",
    "predict_test = tf.argmax(nn(test_x), axis=1)"
   ]
  },
  {
   "cell_type": "code",
   "execution_count": 8,
   "metadata": {},
   "outputs": [],
   "source": [
    "loss_op = tf.losses.mean_squared_error(train_y,predict_train)\n",
    "\n",
    "adam = tf.train.AdamOptimizer(learning_rate=0.005)\n",
    "adam_optimization = adam.minimize(\n",
    "                loss_op,\n",
    "                var_list = w.values()+b.values()\n",
    "            )"
   ]
  },
  {
   "cell_type": "code",
   "execution_count": 9,
   "metadata": {},
   "outputs": [],
   "source": [
    "init_op_g = tf.global_variables_initializer()\n",
    "init_op_l = tf.local_variables_initializer()\n",
    "\n",
    "loss_mean_vector = []\n",
    "acc_vector = []\n",
    "\n",
    "acc_op = tf.contrib.metrics.accuracy(\n",
    "    predict_test,\n",
    "    test_y\n",
    ")"
   ]
  },
  {
   "cell_type": "code",
   "execution_count": 10,
   "metadata": {},
   "outputs": [],
   "source": [
    "def get_batch_range(batch_i,batch_size,total_size):\n",
    "    i = batch_size*batch_i\n",
    "    f = i + batch_size\n",
    "    if f > total_size:\n",
    "        f = total_size\n",
    "    return i,f"
   ]
  },
  {
   "cell_type": "code",
   "execution_count": null,
   "metadata": {
    "scrolled": true
   },
   "outputs": [
    {
     "name": "stdout",
     "output_type": "stream",
     "text": [
      "========== EPOCH 0 ==========\n",
      "LOSS: 0.18162133\n",
      "ACC: 0.0862\n",
      "========== EPOCH 1 ==========\n",
      "LOSS: 0.18173604\n",
      "ACC: 0.0875\n",
      "========== EPOCH 2 ==========\n",
      "LOSS: 0.18149154\n",
      "ACC: 0.0912\n",
      "========== EPOCH 3 ==========\n",
      "LOSS: 0.18124323\n",
      "ACC: 0.0965\n",
      "========== EPOCH 4 ==========\n",
      "LOSS: 0.18038063\n",
      "ACC: 0.1009\n",
      "========== EPOCH 5 ==========\n",
      "LOSS: 0.17941469\n",
      "ACC: 0.1044\n",
      "========== EPOCH 6 ==========\n",
      "LOSS: 0.17881691\n",
      "ACC: 0.1086\n",
      "========== EPOCH 7 ==========\n",
      "LOSS: 0.17835528\n",
      "ACC: 0.1097\n",
      "========== EPOCH 8 ==========\n",
      "LOSS: 0.17771657\n",
      "ACC: 0.1143\n",
      "========== EPOCH 9 ==========\n",
      "LOSS: 0.17715542\n",
      "ACC: 0.117\n",
      "========== EPOCH 10 ==========\n",
      "LOSS: 0.1765994\n",
      "ACC: 0.1224\n",
      "========== EPOCH 11 ==========\n",
      "LOSS: 0.17581409\n",
      "ACC: 0.1291\n",
      "========== EPOCH 12 ==========\n",
      "LOSS: 0.17426276\n",
      "ACC: 0.1337\n",
      "========== EPOCH 13 ==========\n",
      "LOSS: 0.17332864\n",
      "ACC: 0.1356\n",
      "========== EPOCH 14 ==========\n",
      "LOSS: 0.17204623\n",
      "ACC: 0.1403\n",
      "========== EPOCH 15 ==========\n",
      "LOSS: 0.17097008\n",
      "ACC: 0.1455\n",
      "========== EPOCH 16 ==========\n",
      "LOSS: 0.17050596\n",
      "ACC: 0.1461\n",
      "========== EPOCH 17 ==========\n",
      "LOSS: 0.17038809\n",
      "ACC: 0.1465\n",
      "========== EPOCH 18 ==========\n",
      "LOSS: 0.17009313\n",
      "ACC: 0.1473\n",
      "========== EPOCH 19 ==========\n",
      "LOSS: 0.16987419\n",
      "ACC: 0.1486\n",
      "========== EPOCH 20 ==========\n",
      "LOSS: 0.16944079\n",
      "ACC: 0.1511\n",
      "========== EPOCH 21 ==========\n",
      "LOSS: 0.16910069\n",
      "ACC: 0.1512\n",
      "========== EPOCH 22 ==========\n",
      "LOSS: 0.16913258\n",
      "ACC: 0.15\n",
      "========== EPOCH 23 ==========\n",
      "LOSS: 0.1690178\n",
      "ACC: 0.1539\n",
      "========== EPOCH 24 ==========\n",
      "LOSS: 0.1690551\n",
      "ACC: 0.1551\n",
      "========== EPOCH 25 ==========\n",
      "LOSS: 0.1690744\n",
      "ACC: 0.1561\n",
      "========== EPOCH 26 ==========\n",
      "LOSS: 0.16885346\n",
      "ACC: 0.1556\n",
      "========== EPOCH 27 ==========\n",
      "LOSS: 0.1687572\n",
      "ACC: 0.1582\n",
      "========== EPOCH 28 ==========\n",
      "LOSS: 0.16773619\n",
      "ACC: 0.1636\n",
      "========== EPOCH 29 ==========\n"
     ]
    }
   ],
   "source": [
    "with tf.Session() as sess:\n",
    "    sess.run(init_op_g)\n",
    "    sess.run(init_op_l)\n",
    "\n",
    "    \n",
    "    for i in range(500):\n",
    "        print(\"=\"*10 +\" EPOCH \"+str(i)+\" \"+\"=\"*10)\n",
    "        loss_vec = []\n",
    "        for j in range(n_batchs):            \n",
    "            inicio,fim = get_batch_range(\n",
    "                j,\n",
    "                batch_size,\n",
    "                total_size\n",
    "            )   \n",
    "            \n",
    "            sess.run(adam_optimization, feed_dict={\n",
    "                train_x:train_images[inicio:fim],\n",
    "                train_y:np_train_labels[inicio:fim]\n",
    "            })\n",
    "            \n",
    "            l = sess.run(loss_op,\n",
    "                         feed_dict={\n",
    "                             train_x:train_images[inicio:fim],\n",
    "                             train_y:np_train_labels[inicio:fim]})\n",
    "            \n",
    "            \n",
    "            loss_vec.append(l)\n",
    "            \n",
    "            \n",
    "        acc_value = sess.run(acc_op)\n",
    "\n",
    "        acc_vector.append(acc_value)\n",
    "        loss_mean_vector.append(np.mean(loss_vec))\n",
    "            \n",
    "            \n",
    "            \n",
    "            \n",
    "        print(\"LOSS: %s\"%(str(loss_mean_vector[-1])))\n",
    "        print(\"ACC: %s\"%(acc_value)) "
   ]
  },
  {
   "cell_type": "code",
   "execution_count": 52,
   "metadata": {},
   "outputs": [
    {
     "data": {
      "image/png": "[encoded data removed]",
      "text/plain": [
       "<Figure size 432x288 with 1 Axes>"
      ]
     },
     "metadata": {
      "needs_background": "light"
     },
     "output_type": "display_data"
    }
   ],
   "source": [
    "plt.plot(acc_vector, 'g-')\n",
    "plt.show()"
   ]
  },
  {
   "cell_type": "code",
   "execution_count": null,
   "metadata": {},
   "outputs": [],
   "source": []
  }
 ],
 "metadata": {
  "kernelspec": {
   "display_name": "Python 2",
   "language": "python",
   "name": "python2"
  },
  "language_info": {
   "codemirror_mode": {
    "name": "ipython",
    "version": 2
   },
   "file_extension": ".py",
   "mimetype": "text/x-python",
   "name": "python",
   "nbconvert_exporter": "python",
   "pygments_lexer": "ipython2",
   "version": "2.7.15rc1"
  }
 },
 "nbformat": 4,
 "nbformat_minor": 2
}
